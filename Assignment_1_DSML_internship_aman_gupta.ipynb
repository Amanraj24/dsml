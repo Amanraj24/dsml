{
  "nbformat": 4,
  "nbformat_minor": 0,
  "metadata": {
    "colab": {
      "name": "Assignment 1 DSML internship aman gupta.ipynb",
      "provenance": [],
      "collapsed_sections": [],
      "toc_visible": true
    },
    "kernelspec": {
      "name": "python3",
      "display_name": "Python 3"
    },
    "language_info": {
      "name": "python"
    }
  },
  "cells": [
    {
      "cell_type": "markdown",
      "source": [
        "#ASSIGNMENT 1"
      ],
      "metadata": {
        "id": "kXz5MEf5kBM6"
      }
    },
    {
      "cell_type": "markdown",
      "source": [
        "Problem Statement1: Write a Python program to multiply a M×N matrix by N×A matrix and create a real matrix product."
      ],
      "metadata": {
        "id": "PAOzqk8YCzAo"
      }
    },
    {
      "cell_type": "code",
      "source": [
        "import numpy as np\n",
        "M=int(input(\"Enter Value For M :\"))\n",
        "N=int(input(\"Enter Value For N :\"))\n",
        "A=int(input(\"Enter Value For A :\"))\n",
        "mat1=np.random.random((M,N))\n",
        "mat2=np.random.random((N,A))\n",
        "print(\"matrix 1 is\\n\",mat1,\"\\nmatrix 2 is\\n\",mat2)\n",
        "print(\"\\ndot product of matrix 1 and matrix 2 is\\n\",np.dot(mat1,mat2))"
      ],
      "metadata": {
        "colab": {
          "base_uri": "https://localhost:8080/"
        },
        "id": "htwi2KrGC4Jx",
        "outputId": "fe2df9cb-c62d-4679-eb18-86cece92954b"
      },
      "execution_count": 17,
      "outputs": [
        {
          "output_type": "stream",
          "name": "stdout",
          "text": [
            "Enter Value For M :5\n",
            "Enter Value For N :3\n",
            "Enter Value For A :2\n",
            "matrix 1 is\n",
            " [[0.38562412 0.06264529 0.34357218]\n",
            " [0.2728012  0.79893003 0.75605796]\n",
            " [0.06264856 0.98682889 0.38999105]\n",
            " [0.99569178 0.9081711  0.09568116]\n",
            " [0.90607139 0.10337032 0.77750743]] \n",
            "matrix 2 is\n",
            " [[0.93211523 0.89737442]\n",
            " [0.41597919 0.766165  ]\n",
            " [0.86622481 0.23168352]]\n",
            "\n",
            "dot product of matrix 1 and matrix 2 is\n",
            " [[0.683116   0.47364586]\n",
            " [1.24153658 1.03208321]\n",
            " [0.80671589 0.90264747]\n",
            " [1.38876115 1.61148499]\n",
            " [1.56105908 1.07241967]]\n"
          ]
        }
      ]
    },
    {
      "cell_type": "markdown",
      "source": [
        "Problem Statement2: Write a NumPy program to check if each element of an array of your choice is composed of digits, lower case letters, and upper case letters only.Hint:You can use isdigit(),islower(), and isupper() function."
      ],
      "metadata": {
        "id": "jCjuc3w5KAFy"
      }
    },
    {
      "cell_type": "code",
      "source": [
        "arr1=list()\n",
        "arr2=list()\n",
        "arr3=list()\n",
        "x =input(\"Original array :\")\n",
        "x=x.replace(\" \",\",\")\n",
        "arr=eval(x)\n",
        "for i in arr:\n",
        "  a=i.isdigit()\n",
        "  arr1.append(a)\n",
        "  b=i.islower()\n",
        "  arr2.append(b)\n",
        "  c=i.isupper()\n",
        "  arr3.append(c)\n",
        "print(\"Digits Only =\",arr1)\n",
        "print(\"Lower Cases Only =\",arr2)\n",
        "print(\"Upper Cases Only =\",arr3)"
      ],
      "metadata": {
        "colab": {
          "base_uri": "https://localhost:8080/"
        },
        "id": "Y7EAgPPtJ_kM",
        "outputId": "8fb3b308-f0af-460e-a522-5c80cf1f91b9"
      },
      "execution_count": 19,
      "outputs": [
        {
          "output_type": "stream",
          "name": "stdout",
          "text": [
            "Original array :['Python' 'PHP' 'JS' 'Examples' 'html5' '5']\n",
            "Digits Only = [False, False, False, False, False, True]\n",
            "Lower Cases Only = [False, False, False, False, True, False]\n",
            "Upper Cases Only = [False, True, True, False, False, False]\n"
          ]
        }
      ]
    },
    {
      "cell_type": "markdown",
      "source": [
        "Problem Statement3:Write a program that reads two space-separated positive integers X and Y as input and perform the following tasks:Tasks to be performed:\n",
        "1.Create a list (lst1) starting at one (1) with 16 elements at a step of X \n",
        "2.Create a list (lst2) starting at one (1) with 16 elements at a step of Y \n",
        "3.Create two NumPy arrays np1 and np2 using lst1 and lst2 respectively\n",
        "4.Reshape both the NumPy arrays to (4,4)\n",
        "5.Create a new np array (np3) with values obtained by subtracting both the arrays (np1 -np2)\n",
        "6.Print all the elements of np3 in a single dimension list like the \n",
        "format as shown below:a.[n0 n1 n2 n3 n4 n5 n6 n7 n8]"
      ],
      "metadata": {
        "id": "ZIorL5Vbjang"
      }
    },
    {
      "cell_type": "code",
      "source": [
        "X=int(input(\"Enter an integer for X :\"))\n",
        "Y=int(input(\"Enter an integer for Y :\"))\n",
        "lst1=list(np.arange(start=1,stop=X*16,step=X))\n",
        "lst2=list(np.arange(start=1,stop=Y*16,step=Y))\n",
        "np1=np.array(lst1)\n",
        "np2=np.array(lst2)\n",
        "np1.reshape(4,4)\n",
        "np2.reshape(4,4)\n",
        "np3=np1-np2\n",
        "np3=np3.ravel()\n",
        "print(np3)"
      ],
      "metadata": {
        "colab": {
          "base_uri": "https://localhost:8080/"
        },
        "id": "hZOGISzFjuF-",
        "outputId": "23b71722-93cb-4603-9427-b0aa746d7d66"
      },
      "execution_count": 24,
      "outputs": [
        {
          "output_type": "stream",
          "name": "stdout",
          "text": [
            "Enter an integer for X :7\n",
            "Enter an integer for Y :9\n",
            "[  0  -2  -4  -6  -8 -10 -12 -14 -16 -18 -20 -22 -24 -26 -28 -30]\n"
          ]
        }
      ]
    },
    {
      "cell_type": "markdown",
      "source": [
        "Problem Statement4: Write a Python program thattakes two integer-NumPy arrays, P and Q of shape [3∗3]and performthe following task:Task to be performed:Print the element-wise difference of the matrix P and Q(P−Q)"
      ],
      "metadata": {
        "id": "wesSc6tGr6tE"
      }
    },
    {
      "cell_type": "code",
      "source": [
        "a=list()\n",
        "b=list()\n",
        "print(\"Enter elements for array 1:\")\n",
        "for i in range(0,9):\n",
        "  a.append(int(input()))\n",
        "print(\"Enter elements for array 2:\")\n",
        "for j in range(0,9):\n",
        "  b.append(int(input()))\n",
        "p=np.array(a)\n",
        "q=np.array(b)\n",
        "P=p.reshape(3,3)\n",
        "Q=q.reshape(3,3)\n",
        "print(P-Q)"
      ],
      "metadata": {
        "colab": {
          "base_uri": "https://localhost:8080/"
        },
        "id": "baQi7tOpsPb4",
        "outputId": "f7808398-ac0b-412d-e74e-9116383ac945"
      },
      "execution_count": 32,
      "outputs": [
        {
          "output_type": "stream",
          "name": "stdout",
          "text": [
            "Enter elements for array 1:\n",
            "32\n",
            "35\n",
            "21\n",
            "65\n",
            "87\n",
            "65\n",
            "83\n",
            "76\n",
            "45\n",
            "Enter elements for array 2:\n",
            "21\n",
            "23\n",
            "56\n",
            "34\n",
            "43\n",
            "24\n",
            "42\n",
            "41\n",
            "14\n",
            "[[ 11  12 -35]\n",
            " [ 31  44  41]\n",
            " [ 41  35  31]]\n"
          ]
        }
      ]
    }
  ]
}