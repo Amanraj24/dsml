{
  "nbformat": 4,
  "nbformat_minor": 0,
  "metadata": {
    "colab": {
      "name": "certification project dsml internship.ipynb",
      "provenance": []
    },
    "kernelspec": {
      "name": "python3",
      "display_name": "Python 3"
    },
    "language_info": {
      "name": "python"
    }
  },
  "cells": [
    {
      "cell_type": "markdown",
      "source": [
        "<h1>Certification Project</h1>"
      ],
      "metadata": {
        "id": "Q8Q_-oGk4XpG"
      }
    },
    {
      "cell_type": "markdown",
      "source": [
        "<h2 >link of Recomander System web App</h2>\n",
        "<h3><a href=\"https://amanraj24-app-recommander-system-z3dy0d.streamlitapp.com/\">https://amanraj24-app-recommander-system-z3dy0d.streamlitapp.com/</a></h3>\n",
        "<h2>link of Github Repository</h2>\n",
        "<h3><a href=\"https://github.com/Amanraj24/app\">https://github.com/Amanraj24/app</a></h3>"
      ],
      "metadata": {
        "id": "rqOJr3VS4i3Q"
      }
    },
    {
      "cell_type": "code",
      "source": [
        "import pandas as pd"
      ],
      "metadata": {
        "id": "FYk7AChpD-Q6"
      },
      "execution_count": 1,
      "outputs": []
    },
    {
      "cell_type": "code",
      "source": [
        "import ipywidgets as widg\n",
        "from IPython.display import display"
      ],
      "metadata": {
        "id": "Dk8xwuiZKTdt"
      },
      "execution_count": 2,
      "outputs": []
    },
    {
      "cell_type": "code",
      "execution_count": 3,
      "metadata": {
        "colab": {
          "base_uri": "https://localhost:8080/"
        },
        "id": "4Wo6aX2iBvJK",
        "outputId": "86852700-ce1c-4d64-b6cb-11bfc22f6011"
      },
      "outputs": [
        {
          "output_type": "stream",
          "name": "stdout",
          "text": [
            "--2022-08-21 23:21:27--  https://www.dropbox.com/s/yy6zxp5heep5hhx/movies.csv\n",
            "Resolving www.dropbox.com (www.dropbox.com)... 162.125.65.18, 2620:100:6017:18::a27d:212\n",
            "Connecting to www.dropbox.com (www.dropbox.com)|162.125.65.18|:443... connected.\n",
            "HTTP request sent, awaiting response... 301 Moved Permanently\n",
            "Location: /s/raw/yy6zxp5heep5hhx/movies.csv [following]\n",
            "--2022-08-21 23:21:28--  https://www.dropbox.com/s/raw/yy6zxp5heep5hhx/movies.csv\n",
            "Reusing existing connection to www.dropbox.com:443.\n",
            "HTTP request sent, awaiting response... 302 Found\n",
            "Location: https://ucd8745ed088b802a52e082349c0.dl.dropboxusercontent.com/cd/0/inline/Brf_KqEWA9QP-qYCg23w7o4vtHykEkbb3YX-30wlaCPfFr-XZvkdY5PIf-PyE2Sx-zzv6VsSyjAzvxX8th5ifwnfj47niuju-a1KUyDzvTpB6gu6sLt6rawhu-zw_a6ilPKl0VwgCiBj2uZ-s4ZXpa6FoRaUEDo-x7IRWH4WTZm69Q/file# [following]\n",
            "--2022-08-21 23:21:28--  https://ucd8745ed088b802a52e082349c0.dl.dropboxusercontent.com/cd/0/inline/Brf_KqEWA9QP-qYCg23w7o4vtHykEkbb3YX-30wlaCPfFr-XZvkdY5PIf-PyE2Sx-zzv6VsSyjAzvxX8th5ifwnfj47niuju-a1KUyDzvTpB6gu6sLt6rawhu-zw_a6ilPKl0VwgCiBj2uZ-s4ZXpa6FoRaUEDo-x7IRWH4WTZm69Q/file\n",
            "Resolving ucd8745ed088b802a52e082349c0.dl.dropboxusercontent.com (ucd8745ed088b802a52e082349c0.dl.dropboxusercontent.com)... 162.125.2.15, 2620:100:6017:15::a27d:20f\n",
            "Connecting to ucd8745ed088b802a52e082349c0.dl.dropboxusercontent.com (ucd8745ed088b802a52e082349c0.dl.dropboxusercontent.com)|162.125.2.15|:443... connected.\n",
            "HTTP request sent, awaiting response... 200 OK\n",
            "Length: 515699 (504K) [text/plain]\n",
            "Saving to: ‘movies.csv’\n",
            "\n",
            "movies.csv          100%[===================>] 503.61K  --.-KB/s    in 0.04s   \n",
            "\n",
            "2022-08-21 23:21:29 (13.2 MB/s) - ‘movies.csv’ saved [515699/515699]\n",
            "\n"
          ]
        }
      ],
      "source": [
        "!wget https://www.dropbox.com/s/yy6zxp5heep5hhx/movies.csv"
      ]
    },
    {
      "cell_type": "code",
      "source": [
        "!wget https://www.dropbox.com/s/mzb5fdje98sqh3k/ratings.csv"
      ],
      "metadata": {
        "colab": {
          "base_uri": "https://localhost:8080/"
        },
        "id": "MbImAw91B-5P",
        "outputId": "12986872-2b98-4c0c-85fc-e777e01aac5a"
      },
      "execution_count": 4,
      "outputs": [
        {
          "output_type": "stream",
          "name": "stdout",
          "text": [
            "--2022-08-21 23:21:29--  https://www.dropbox.com/s/mzb5fdje98sqh3k/ratings.csv\n",
            "Resolving www.dropbox.com (www.dropbox.com)... 162.125.65.18, 2620:100:6017:18::a27d:212\n",
            "Connecting to www.dropbox.com (www.dropbox.com)|162.125.65.18|:443... connected.\n",
            "HTTP request sent, awaiting response... 301 Moved Permanently\n",
            "Location: /s/raw/mzb5fdje98sqh3k/ratings.csv [following]\n",
            "--2022-08-21 23:21:30--  https://www.dropbox.com/s/raw/mzb5fdje98sqh3k/ratings.csv\n",
            "Reusing existing connection to www.dropbox.com:443.\n",
            "HTTP request sent, awaiting response... 302 Found\n",
            "Location: https://uc74a9d1a9abff37e4ef9a54e5a6.dl.dropboxusercontent.com/cd/0/inline/BrcHj8FmlzAopVlHL7nVBbkYtmzl2UELPH5oK8ZFm9NoZegArgtNt1ZO9KKyLlxrUxGRmjpvFGhQQZ1Fd6UY1YNPSnnyUuEYCGG20PRHqE1JQ9eSYaW5MbKfEd4NVftfwkidT3Y9_YyrTSoBdqe2wqQm31kkSdjQkh2QIKiD_MDxGA/file# [following]\n",
            "--2022-08-21 23:21:30--  https://uc74a9d1a9abff37e4ef9a54e5a6.dl.dropboxusercontent.com/cd/0/inline/BrcHj8FmlzAopVlHL7nVBbkYtmzl2UELPH5oK8ZFm9NoZegArgtNt1ZO9KKyLlxrUxGRmjpvFGhQQZ1Fd6UY1YNPSnnyUuEYCGG20PRHqE1JQ9eSYaW5MbKfEd4NVftfwkidT3Y9_YyrTSoBdqe2wqQm31kkSdjQkh2QIKiD_MDxGA/file\n",
            "Resolving uc74a9d1a9abff37e4ef9a54e5a6.dl.dropboxusercontent.com (uc74a9d1a9abff37e4ef9a54e5a6.dl.dropboxusercontent.com)... 162.125.65.15, 2620:100:6017:15::a27d:20f\n",
            "Connecting to uc74a9d1a9abff37e4ef9a54e5a6.dl.dropboxusercontent.com (uc74a9d1a9abff37e4ef9a54e5a6.dl.dropboxusercontent.com)|162.125.65.15|:443... connected.\n",
            "HTTP request sent, awaiting response... 200 OK\n",
            "Length: 2475052 (2.4M) [text/plain]\n",
            "Saving to: ‘ratings.csv’\n",
            "\n",
            "ratings.csv         100%[===================>]   2.36M  2.29MB/s    in 1.0s    \n",
            "\n",
            "2022-08-21 23:21:32 (2.29 MB/s) - ‘ratings.csv’ saved [2475052/2475052]\n",
            "\n"
          ]
        }
      ]
    },
    {
      "cell_type": "code",
      "source": [
        "movies=pd.read_csv(\"movies.csv\")\n",
        "ratings=pd.read_csv(\"ratings.csv\")"
      ],
      "metadata": {
        "id": "Sdg5tG3HDUQF"
      },
      "execution_count": 68,
      "outputs": []
    },
    {
      "cell_type": "code",
      "source": [
        "merged_left = pd.merge(left=movies, right=ratings, how='left', left_on='movieId', right_on='movieId')"
      ],
      "metadata": {
        "id": "skNTHRwkwiAY"
      },
      "execution_count": 69,
      "outputs": []
    },
    {
      "cell_type": "markdown",
      "source": [
        "<h1>Popularity-Based Recommender System</h1>"
      ],
      "metadata": {
        "id": "qstfpd-p4LcW"
      }
    },
    {
      "cell_type": "code",
      "source": [
        "#ipywidgets.Text() not working in colab so inputs are simply taken by input()\n",
        "ge=input(\"Genre(g):\")\n",
        "th=int(input(\"Minimum reviews threshold(t):\"))\n",
        "re=int(input(\"Num recommendations (N) :\"))"
      ],
      "metadata": {
        "colab": {
          "base_uri": "https://localhost:8080/"
        },
        "id": "VmVthzitYgEB",
        "outputId": "e06a6caa-f35b-4d69-93ca-bfea737e0def"
      },
      "execution_count": 70,
      "outputs": [
        {
          "name": "stdout",
          "output_type": "stream",
          "text": [
            "Genre(g):Comedy\n",
            "Minimum reviews threshold(t):100\n",
            "Num recommendations (N) :5\n"
          ]
        }
      ]
    },
    {
      "cell_type": "code",
      "source": [
        "out=merged_left[merged_left[\"genres\"]==ge ].sort_values(by=[\"genres\",\"rating\",\"userId\"], ascending=False)"
      ],
      "metadata": {
        "id": "y2yKCIgQYalu"
      },
      "execution_count": 71,
      "outputs": []
    },
    {
      "cell_type": "code",
      "source": [
        "out=out[out[\"userId\"]>=int(th)]\n",
        "out[\"Num Reviews\"]=out.userId.astype(\"int\")\n",
        "out[\"Movie Title\"]=out.title\n",
        "out[\"Average Movie Rating\"]=out.rating.astype(\"float\")\n",
        "out=out.reset_index(drop=True)\n",
        "final=out[[\"Movie Title\",\"Average Movie Rating\",\"Num Reviews\"]].head(re)"
      ],
      "metadata": {
        "id": "MTfm1oGG0lY8"
      },
      "execution_count": 72,
      "outputs": []
    },
    {
      "cell_type": "code",
      "source": [
        "final"
      ],
      "metadata": {
        "colab": {
          "base_uri": "https://localhost:8080/",
          "height": 206
        },
        "id": "jasWu-aCax3Z",
        "outputId": "c4309db1-9b01-4d0c-aaca-38b5eeda3e48"
      },
      "execution_count": 73,
      "outputs": [
        {
          "output_type": "execute_result",
          "data": {
            "text/plain": [
              "              Movie Title  Average Movie Rating  Num Reviews\n",
              "0           Clerks (1994)                   5.0          666\n",
              "1  Raising Arizona (1987)                   5.0          666\n",
              "2        Jerk, The (1979)                   5.0          666\n",
              "3         Election (1999)                   5.0          666\n",
              "4          Blended (2014)                   5.0          664"
            ],
            "text/html": [
              "\n",
              "  <div id=\"df-bf99e291-35fa-42dc-992c-30f76346f1f6\">\n",
              "    <div class=\"colab-df-container\">\n",
              "      <div>\n",
              "<style scoped>\n",
              "    .dataframe tbody tr th:only-of-type {\n",
              "        vertical-align: middle;\n",
              "    }\n",
              "\n",
              "    .dataframe tbody tr th {\n",
              "        vertical-align: top;\n",
              "    }\n",
              "\n",
              "    .dataframe thead th {\n",
              "        text-align: right;\n",
              "    }\n",
              "</style>\n",
              "<table border=\"1\" class=\"dataframe\">\n",
              "  <thead>\n",
              "    <tr style=\"text-align: right;\">\n",
              "      <th></th>\n",
              "      <th>Movie Title</th>\n",
              "      <th>Average Movie Rating</th>\n",
              "      <th>Num Reviews</th>\n",
              "    </tr>\n",
              "  </thead>\n",
              "  <tbody>\n",
              "    <tr>\n",
              "      <th>0</th>\n",
              "      <td>Clerks (1994)</td>\n",
              "      <td>5.0</td>\n",
              "      <td>666</td>\n",
              "    </tr>\n",
              "    <tr>\n",
              "      <th>1</th>\n",
              "      <td>Raising Arizona (1987)</td>\n",
              "      <td>5.0</td>\n",
              "      <td>666</td>\n",
              "    </tr>\n",
              "    <tr>\n",
              "      <th>2</th>\n",
              "      <td>Jerk, The (1979)</td>\n",
              "      <td>5.0</td>\n",
              "      <td>666</td>\n",
              "    </tr>\n",
              "    <tr>\n",
              "      <th>3</th>\n",
              "      <td>Election (1999)</td>\n",
              "      <td>5.0</td>\n",
              "      <td>666</td>\n",
              "    </tr>\n",
              "    <tr>\n",
              "      <th>4</th>\n",
              "      <td>Blended (2014)</td>\n",
              "      <td>5.0</td>\n",
              "      <td>664</td>\n",
              "    </tr>\n",
              "  </tbody>\n",
              "</table>\n",
              "</div>\n",
              "      <button class=\"colab-df-convert\" onclick=\"convertToInteractive('df-bf99e291-35fa-42dc-992c-30f76346f1f6')\"\n",
              "              title=\"Convert this dataframe to an interactive table.\"\n",
              "              style=\"display:none;\">\n",
              "        \n",
              "  <svg xmlns=\"http://www.w3.org/2000/svg\" height=\"24px\"viewBox=\"0 0 24 24\"\n",
              "       width=\"24px\">\n",
              "    <path d=\"M0 0h24v24H0V0z\" fill=\"none\"/>\n",
              "    <path d=\"M18.56 5.44l.94 2.06.94-2.06 2.06-.94-2.06-.94-.94-2.06-.94 2.06-2.06.94zm-11 1L8.5 8.5l.94-2.06 2.06-.94-2.06-.94L8.5 2.5l-.94 2.06-2.06.94zm10 10l.94 2.06.94-2.06 2.06-.94-2.06-.94-.94-2.06-.94 2.06-2.06.94z\"/><path d=\"M17.41 7.96l-1.37-1.37c-.4-.4-.92-.59-1.43-.59-.52 0-1.04.2-1.43.59L10.3 9.45l-7.72 7.72c-.78.78-.78 2.05 0 2.83L4 21.41c.39.39.9.59 1.41.59.51 0 1.02-.2 1.41-.59l7.78-7.78 2.81-2.81c.8-.78.8-2.07 0-2.86zM5.41 20L4 18.59l7.72-7.72 1.47 1.35L5.41 20z\"/>\n",
              "  </svg>\n",
              "      </button>\n",
              "      \n",
              "  <style>\n",
              "    .colab-df-container {\n",
              "      display:flex;\n",
              "      flex-wrap:wrap;\n",
              "      gap: 12px;\n",
              "    }\n",
              "\n",
              "    .colab-df-convert {\n",
              "      background-color: #E8F0FE;\n",
              "      border: none;\n",
              "      border-radius: 50%;\n",
              "      cursor: pointer;\n",
              "      display: none;\n",
              "      fill: #1967D2;\n",
              "      height: 32px;\n",
              "      padding: 0 0 0 0;\n",
              "      width: 32px;\n",
              "    }\n",
              "\n",
              "    .colab-df-convert:hover {\n",
              "      background-color: #E2EBFA;\n",
              "      box-shadow: 0px 1px 2px rgba(60, 64, 67, 0.3), 0px 1px 3px 1px rgba(60, 64, 67, 0.15);\n",
              "      fill: #174EA6;\n",
              "    }\n",
              "\n",
              "    [theme=dark] .colab-df-convert {\n",
              "      background-color: #3B4455;\n",
              "      fill: #D2E3FC;\n",
              "    }\n",
              "\n",
              "    [theme=dark] .colab-df-convert:hover {\n",
              "      background-color: #434B5C;\n",
              "      box-shadow: 0px 1px 3px 1px rgba(0, 0, 0, 0.15);\n",
              "      filter: drop-shadow(0px 1px 2px rgba(0, 0, 0, 0.3));\n",
              "      fill: #FFFFFF;\n",
              "    }\n",
              "  </style>\n",
              "\n",
              "      <script>\n",
              "        const buttonEl =\n",
              "          document.querySelector('#df-bf99e291-35fa-42dc-992c-30f76346f1f6 button.colab-df-convert');\n",
              "        buttonEl.style.display =\n",
              "          google.colab.kernel.accessAllowed ? 'block' : 'none';\n",
              "\n",
              "        async function convertToInteractive(key) {\n",
              "          const element = document.querySelector('#df-bf99e291-35fa-42dc-992c-30f76346f1f6');\n",
              "          const dataTable =\n",
              "            await google.colab.kernel.invokeFunction('convertToInteractive',\n",
              "                                                     [key], {});\n",
              "          if (!dataTable) return;\n",
              "\n",
              "          const docLinkHtml = 'Like what you see? Visit the ' +\n",
              "            '<a target=\"_blank\" href=https://colab.research.google.com/notebooks/data_table.ipynb>data table notebook</a>'\n",
              "            + ' to learn more about interactive tables.';\n",
              "          element.innerHTML = '';\n",
              "          dataTable['output_type'] = 'display_data';\n",
              "          await google.colab.output.renderOutput(dataTable, element);\n",
              "          const docLink = document.createElement('div');\n",
              "          docLink.innerHTML = docLinkHtml;\n",
              "          element.appendChild(docLink);\n",
              "        }\n",
              "      </script>\n",
              "    </div>\n",
              "  </div>\n",
              "  "
            ]
          },
          "metadata": {},
          "execution_count": 73
        }
      ]
    },
    {
      "cell_type": "markdown",
      "source": [
        "<h1>Content-Based Recommender System</h1>"
      ],
      "metadata": {
        "id": "Scu2ANJN3-zu"
      }
    },
    {
      "cell_type": "code",
      "source": [
        "#ipywidgets.Text() not working in colab so inputs are simply taken by input()\n",
        "mv=input(\"Movie Title (t): \")\n",
        "rec=int(input(\"Num recommendations (N):\"))"
      ],
      "metadata": {
        "colab": {
          "base_uri": "https://localhost:8080/"
        },
        "id": "W319vIjsb3HO",
        "outputId": "850eab24-5d02-49e2-cf94-75c6cd231cb4"
      },
      "execution_count": 74,
      "outputs": [
        {
          "name": "stdout",
          "output_type": "stream",
          "text": [
            "Movie Title (t): Blended\n",
            "Num recommendations (N):5\n"
          ]
        }
      ]
    },
    {
      "cell_type": "code",
      "source": [
        "for i in range(0,len(movies)):\n",
        "  Str = movies[\"title\"][i]\n",
        "  l = len(Str)\n",
        "  Remove_last = Str[:l-7]\n",
        "  movies[\"title\"][i]=Remove_last"
      ],
      "metadata": {
        "colab": {
          "base_uri": "https://localhost:8080/"
        },
        "id": "GNBrRGtw5Ow4",
        "outputId": "48acce96-16b5-4373-ec29-6c5af437bd89"
      },
      "execution_count": 75,
      "outputs": [
        {
          "output_type": "stream",
          "name": "stderr",
          "text": [
            "/usr/local/lib/python3.7/dist-packages/ipykernel_launcher.py:5: SettingWithCopyWarning: \n",
            "A value is trying to be set on a copy of a slice from a DataFrame\n",
            "\n",
            "See the caveats in the documentation: https://pandas.pydata.org/pandas-docs/stable/user_guide/indexing.html#returning-a-view-versus-a-copy\n",
            "  \"\"\"\n"
          ]
        }
      ]
    },
    {
      "cell_type": "code",
      "source": [
        "n_movies=movies"
      ],
      "metadata": {
        "id": "KuuWezFW7ise"
      },
      "execution_count": 76,
      "outputs": []
    },
    {
      "cell_type": "code",
      "source": [
        "movie=n_movies[n_movies[\"title\"]==mv]"
      ],
      "metadata": {
        "id": "ngCpolRr85Sx"
      },
      "execution_count": 77,
      "outputs": []
    },
    {
      "cell_type": "code",
      "source": [
        "id=movie[\"movieId\"].tolist()\n",
        "id=id[0]"
      ],
      "metadata": {
        "id": "8c3nBzKv9tdN"
      },
      "execution_count": 78,
      "outputs": []
    },
    {
      "cell_type": "code",
      "source": [
        "genre=merged_left[merged_left[\"movieId\"]==id][\"genres\"]"
      ],
      "metadata": {
        "id": "eTutVoVU94bY"
      },
      "execution_count": 79,
      "outputs": []
    },
    {
      "cell_type": "code",
      "source": [
        "genre=genre.unique()\n"
      ],
      "metadata": {
        "id": "E4MQXIJHAeBE"
      },
      "execution_count": 80,
      "outputs": []
    },
    {
      "cell_type": "code",
      "source": [
        "ge=genre.tolist()[0]"
      ],
      "metadata": {
        "id": "RKAJNi6JCosO"
      },
      "execution_count": 81,
      "outputs": []
    },
    {
      "cell_type": "code",
      "source": [
        "out2=merged_left[merged_left[\"genres\"]==ge ].sort_values(by=[\"genres\",\"rating\",\"userId\"], ascending=False)"
      ],
      "metadata": {
        "id": "qjP_KQsn3fCV"
      },
      "execution_count": 82,
      "outputs": []
    },
    {
      "cell_type": "code",
      "source": [
        "out3=out2.reset_index(drop=True)\n"
      ],
      "metadata": {
        "id": "3S50Z2SVu03r"
      },
      "execution_count": 83,
      "outputs": []
    },
    {
      "cell_type": "code",
      "source": [
        "out3[\"Movie Title\"]=out3[\"title\"]\n",
        "out3=out3[\"Movie Title\"].head(rec)"
      ],
      "metadata": {
        "id": "aC8abvlu46DJ"
      },
      "execution_count": 84,
      "outputs": []
    },
    {
      "cell_type": "code",
      "source": [
        "out3=pd.DataFrame(out3)\n",
        "out3"
      ],
      "metadata": {
        "colab": {
          "base_uri": "https://localhost:8080/",
          "height": 206
        },
        "id": "5QWvF3WODnzU",
        "outputId": "c5d6d496-db6f-4140-fd78-e9bfa57e4ab8"
      },
      "execution_count": 85,
      "outputs": [
        {
          "output_type": "execute_result",
          "data": {
            "text/plain": [
              "              Movie Title\n",
              "0           Clerks (1994)\n",
              "1  Raising Arizona (1987)\n",
              "2        Jerk, The (1979)\n",
              "3         Election (1999)\n",
              "4          Blended (2014)"
            ],
            "text/html": [
              "\n",
              "  <div id=\"df-c0b08b4f-1a0b-46f2-8542-b666903cae83\">\n",
              "    <div class=\"colab-df-container\">\n",
              "      <div>\n",
              "<style scoped>\n",
              "    .dataframe tbody tr th:only-of-type {\n",
              "        vertical-align: middle;\n",
              "    }\n",
              "\n",
              "    .dataframe tbody tr th {\n",
              "        vertical-align: top;\n",
              "    }\n",
              "\n",
              "    .dataframe thead th {\n",
              "        text-align: right;\n",
              "    }\n",
              "</style>\n",
              "<table border=\"1\" class=\"dataframe\">\n",
              "  <thead>\n",
              "    <tr style=\"text-align: right;\">\n",
              "      <th></th>\n",
              "      <th>Movie Title</th>\n",
              "    </tr>\n",
              "  </thead>\n",
              "  <tbody>\n",
              "    <tr>\n",
              "      <th>0</th>\n",
              "      <td>Clerks (1994)</td>\n",
              "    </tr>\n",
              "    <tr>\n",
              "      <th>1</th>\n",
              "      <td>Raising Arizona (1987)</td>\n",
              "    </tr>\n",
              "    <tr>\n",
              "      <th>2</th>\n",
              "      <td>Jerk, The (1979)</td>\n",
              "    </tr>\n",
              "    <tr>\n",
              "      <th>3</th>\n",
              "      <td>Election (1999)</td>\n",
              "    </tr>\n",
              "    <tr>\n",
              "      <th>4</th>\n",
              "      <td>Blended (2014)</td>\n",
              "    </tr>\n",
              "  </tbody>\n",
              "</table>\n",
              "</div>\n",
              "      <button class=\"colab-df-convert\" onclick=\"convertToInteractive('df-c0b08b4f-1a0b-46f2-8542-b666903cae83')\"\n",
              "              title=\"Convert this dataframe to an interactive table.\"\n",
              "              style=\"display:none;\">\n",
              "        \n",
              "  <svg xmlns=\"http://www.w3.org/2000/svg\" height=\"24px\"viewBox=\"0 0 24 24\"\n",
              "       width=\"24px\">\n",
              "    <path d=\"M0 0h24v24H0V0z\" fill=\"none\"/>\n",
              "    <path d=\"M18.56 5.44l.94 2.06.94-2.06 2.06-.94-2.06-.94-.94-2.06-.94 2.06-2.06.94zm-11 1L8.5 8.5l.94-2.06 2.06-.94-2.06-.94L8.5 2.5l-.94 2.06-2.06.94zm10 10l.94 2.06.94-2.06 2.06-.94-2.06-.94-.94-2.06-.94 2.06-2.06.94z\"/><path d=\"M17.41 7.96l-1.37-1.37c-.4-.4-.92-.59-1.43-.59-.52 0-1.04.2-1.43.59L10.3 9.45l-7.72 7.72c-.78.78-.78 2.05 0 2.83L4 21.41c.39.39.9.59 1.41.59.51 0 1.02-.2 1.41-.59l7.78-7.78 2.81-2.81c.8-.78.8-2.07 0-2.86zM5.41 20L4 18.59l7.72-7.72 1.47 1.35L5.41 20z\"/>\n",
              "  </svg>\n",
              "      </button>\n",
              "      \n",
              "  <style>\n",
              "    .colab-df-container {\n",
              "      display:flex;\n",
              "      flex-wrap:wrap;\n",
              "      gap: 12px;\n",
              "    }\n",
              "\n",
              "    .colab-df-convert {\n",
              "      background-color: #E8F0FE;\n",
              "      border: none;\n",
              "      border-radius: 50%;\n",
              "      cursor: pointer;\n",
              "      display: none;\n",
              "      fill: #1967D2;\n",
              "      height: 32px;\n",
              "      padding: 0 0 0 0;\n",
              "      width: 32px;\n",
              "    }\n",
              "\n",
              "    .colab-df-convert:hover {\n",
              "      background-color: #E2EBFA;\n",
              "      box-shadow: 0px 1px 2px rgba(60, 64, 67, 0.3), 0px 1px 3px 1px rgba(60, 64, 67, 0.15);\n",
              "      fill: #174EA6;\n",
              "    }\n",
              "\n",
              "    [theme=dark] .colab-df-convert {\n",
              "      background-color: #3B4455;\n",
              "      fill: #D2E3FC;\n",
              "    }\n",
              "\n",
              "    [theme=dark] .colab-df-convert:hover {\n",
              "      background-color: #434B5C;\n",
              "      box-shadow: 0px 1px 3px 1px rgba(0, 0, 0, 0.15);\n",
              "      filter: drop-shadow(0px 1px 2px rgba(0, 0, 0, 0.3));\n",
              "      fill: #FFFFFF;\n",
              "    }\n",
              "  </style>\n",
              "\n",
              "      <script>\n",
              "        const buttonEl =\n",
              "          document.querySelector('#df-c0b08b4f-1a0b-46f2-8542-b666903cae83 button.colab-df-convert');\n",
              "        buttonEl.style.display =\n",
              "          google.colab.kernel.accessAllowed ? 'block' : 'none';\n",
              "\n",
              "        async function convertToInteractive(key) {\n",
              "          const element = document.querySelector('#df-c0b08b4f-1a0b-46f2-8542-b666903cae83');\n",
              "          const dataTable =\n",
              "            await google.colab.kernel.invokeFunction('convertToInteractive',\n",
              "                                                     [key], {});\n",
              "          if (!dataTable) return;\n",
              "\n",
              "          const docLinkHtml = 'Like what you see? Visit the ' +\n",
              "            '<a target=\"_blank\" href=https://colab.research.google.com/notebooks/data_table.ipynb>data table notebook</a>'\n",
              "            + ' to learn more about interactive tables.';\n",
              "          element.innerHTML = '';\n",
              "          dataTable['output_type'] = 'display_data';\n",
              "          await google.colab.output.renderOutput(dataTable, element);\n",
              "          const docLink = document.createElement('div');\n",
              "          docLink.innerHTML = docLinkHtml;\n",
              "          element.appendChild(docLink);\n",
              "        }\n",
              "      </script>\n",
              "    </div>\n",
              "  </div>\n",
              "  "
            ]
          },
          "metadata": {},
          "execution_count": 85
        }
      ]
    },
    {
      "cell_type": "markdown",
      "source": [
        "<h1>Collaborative Based Recommender System</h1>"
      ],
      "metadata": {
        "id": "S4z5ppeZ3yp-"
      }
    },
    {
      "cell_type": "code",
      "source": [
        "#ipywidgets.Text() not working in colab so inputs are simply taken by input()\n",
        "usr=int(input(\"UserID:\"))\n",
        "rec=int(input(\"Num recommendations(N):\"))\n",
        "thr=int(input(\"Threshold for similar users (k):\"))"
      ],
      "metadata": {
        "colab": {
          "base_uri": "https://localhost:8080/"
        },
        "id": "KelZH9Ne1Cro",
        "outputId": "63d697d7-b287-492e-987e-58dff75dc5bf"
      },
      "execution_count": 86,
      "outputs": [
        {
          "name": "stdout",
          "output_type": "stream",
          "text": [
            "UserID:1\n",
            "Num recommendations(N):5\n",
            "Threshold for similar users (k):100\n"
          ]
        }
      ]
    },
    {
      "cell_type": "code",
      "source": [
        "usr_mv=merged_left[merged_left[\"userId\"]==usr][[\"title\",\"userId\"]]"
      ],
      "metadata": {
        "id": "Nzjtgk5clpT0"
      },
      "execution_count": 87,
      "outputs": []
    },
    {
      "cell_type": "code",
      "source": [
        "a=usr_mv.title.tolist()\n",
        "diff_usr=merged_left[merged_left[\"title\"]==a[0]]\n",
        "for i in range(1,len(a)):\n",
        "  diff_usr=diff_usr.append(merged_left[merged_left[\"title\"]==a[i]])"
      ],
      "metadata": {
        "id": "wwercRVopZSS"
      },
      "execution_count": 88,
      "outputs": []
    },
    {
      "cell_type": "code",
      "source": [
        "diff_usr=diff_usr[\"userId\"].unique()"
      ],
      "metadata": {
        "id": "h3Lq-cBDm4GT"
      },
      "execution_count": 89,
      "outputs": []
    },
    {
      "cell_type": "code",
      "source": [
        "diff_usr=diff_usr.tolist()"
      ],
      "metadata": {
        "id": "P-Sf89Hxv32_"
      },
      "execution_count": 90,
      "outputs": []
    },
    {
      "cell_type": "code",
      "source": [
        "diff_usr=diff_usr[:thr]\n",
        "sg_mv=merged_left[merged_left[\"userId\"]==diff_usr[0]]\n",
        "for i in range(1,len(diff_usr)):\n",
        "  sg_mv=sg_mv.append(merged_left[merged_left[\"userId\"]==diff_usr[i]])"
      ],
      "metadata": {
        "id": "s3dkyqvQwRtI"
      },
      "execution_count": 91,
      "outputs": []
    },
    {
      "cell_type": "code",
      "source": [
        "sg_mv=sg_mv.reset_index(drop=True)"
      ],
      "metadata": {
        "id": "qD6DvfFOzC2Z"
      },
      "execution_count": 92,
      "outputs": []
    },
    {
      "cell_type": "code",
      "source": [
        "sg_mv=sg_mv[\"title\"].unique()"
      ],
      "metadata": {
        "id": "_U14Qk0YyKm-"
      },
      "execution_count": 93,
      "outputs": []
    },
    {
      "cell_type": "code",
      "source": [
        "sg_mv=pd.DataFrame(sg_mv,columns=[\"Movie Title\"])"
      ],
      "metadata": {
        "id": "KhIyZHRYyvnL"
      },
      "execution_count": 94,
      "outputs": []
    },
    {
      "cell_type": "code",
      "source": [
        "sg_mv.head(rec)"
      ],
      "metadata": {
        "colab": {
          "base_uri": "https://localhost:8080/",
          "height": 206
        },
        "id": "TeXFivEq1Ti-",
        "outputId": "88d7234c-52bb-418e-ff11-cae15fa21ac1"
      },
      "execution_count": 97,
      "outputs": [
        {
          "output_type": "execute_result",
          "data": {
            "text/plain": [
              "                                 Movie Title\n",
              "0                              Casino (1995)\n",
              "1                              Powder (1995)\n",
              "2  Twelve Monkeys (a.k.a. 12 Monkeys) (1995)\n",
              "3                Seven (a.k.a. Se7en) (1995)\n",
              "4                 Usual Suspects, The (1995)"
            ],
            "text/html": [
              "\n",
              "  <div id=\"df-2dd86b99-60a7-4f1b-baad-e895ddbd6299\">\n",
              "    <div class=\"colab-df-container\">\n",
              "      <div>\n",
              "<style scoped>\n",
              "    .dataframe tbody tr th:only-of-type {\n",
              "        vertical-align: middle;\n",
              "    }\n",
              "\n",
              "    .dataframe tbody tr th {\n",
              "        vertical-align: top;\n",
              "    }\n",
              "\n",
              "    .dataframe thead th {\n",
              "        text-align: right;\n",
              "    }\n",
              "</style>\n",
              "<table border=\"1\" class=\"dataframe\">\n",
              "  <thead>\n",
              "    <tr style=\"text-align: right;\">\n",
              "      <th></th>\n",
              "      <th>Movie Title</th>\n",
              "    </tr>\n",
              "  </thead>\n",
              "  <tbody>\n",
              "    <tr>\n",
              "      <th>0</th>\n",
              "      <td>Casino (1995)</td>\n",
              "    </tr>\n",
              "    <tr>\n",
              "      <th>1</th>\n",
              "      <td>Powder (1995)</td>\n",
              "    </tr>\n",
              "    <tr>\n",
              "      <th>2</th>\n",
              "      <td>Twelve Monkeys (a.k.a. 12 Monkeys) (1995)</td>\n",
              "    </tr>\n",
              "    <tr>\n",
              "      <th>3</th>\n",
              "      <td>Seven (a.k.a. Se7en) (1995)</td>\n",
              "    </tr>\n",
              "    <tr>\n",
              "      <th>4</th>\n",
              "      <td>Usual Suspects, The (1995)</td>\n",
              "    </tr>\n",
              "  </tbody>\n",
              "</table>\n",
              "</div>\n",
              "      <button class=\"colab-df-convert\" onclick=\"convertToInteractive('df-2dd86b99-60a7-4f1b-baad-e895ddbd6299')\"\n",
              "              title=\"Convert this dataframe to an interactive table.\"\n",
              "              style=\"display:none;\">\n",
              "        \n",
              "  <svg xmlns=\"http://www.w3.org/2000/svg\" height=\"24px\"viewBox=\"0 0 24 24\"\n",
              "       width=\"24px\">\n",
              "    <path d=\"M0 0h24v24H0V0z\" fill=\"none\"/>\n",
              "    <path d=\"M18.56 5.44l.94 2.06.94-2.06 2.06-.94-2.06-.94-.94-2.06-.94 2.06-2.06.94zm-11 1L8.5 8.5l.94-2.06 2.06-.94-2.06-.94L8.5 2.5l-.94 2.06-2.06.94zm10 10l.94 2.06.94-2.06 2.06-.94-2.06-.94-.94-2.06-.94 2.06-2.06.94z\"/><path d=\"M17.41 7.96l-1.37-1.37c-.4-.4-.92-.59-1.43-.59-.52 0-1.04.2-1.43.59L10.3 9.45l-7.72 7.72c-.78.78-.78 2.05 0 2.83L4 21.41c.39.39.9.59 1.41.59.51 0 1.02-.2 1.41-.59l7.78-7.78 2.81-2.81c.8-.78.8-2.07 0-2.86zM5.41 20L4 18.59l7.72-7.72 1.47 1.35L5.41 20z\"/>\n",
              "  </svg>\n",
              "      </button>\n",
              "      \n",
              "  <style>\n",
              "    .colab-df-container {\n",
              "      display:flex;\n",
              "      flex-wrap:wrap;\n",
              "      gap: 12px;\n",
              "    }\n",
              "\n",
              "    .colab-df-convert {\n",
              "      background-color: #E8F0FE;\n",
              "      border: none;\n",
              "      border-radius: 50%;\n",
              "      cursor: pointer;\n",
              "      display: none;\n",
              "      fill: #1967D2;\n",
              "      height: 32px;\n",
              "      padding: 0 0 0 0;\n",
              "      width: 32px;\n",
              "    }\n",
              "\n",
              "    .colab-df-convert:hover {\n",
              "      background-color: #E2EBFA;\n",
              "      box-shadow: 0px 1px 2px rgba(60, 64, 67, 0.3), 0px 1px 3px 1px rgba(60, 64, 67, 0.15);\n",
              "      fill: #174EA6;\n",
              "    }\n",
              "\n",
              "    [theme=dark] .colab-df-convert {\n",
              "      background-color: #3B4455;\n",
              "      fill: #D2E3FC;\n",
              "    }\n",
              "\n",
              "    [theme=dark] .colab-df-convert:hover {\n",
              "      background-color: #434B5C;\n",
              "      box-shadow: 0px 1px 3px 1px rgba(0, 0, 0, 0.15);\n",
              "      filter: drop-shadow(0px 1px 2px rgba(0, 0, 0, 0.3));\n",
              "      fill: #FFFFFF;\n",
              "    }\n",
              "  </style>\n",
              "\n",
              "      <script>\n",
              "        const buttonEl =\n",
              "          document.querySelector('#df-2dd86b99-60a7-4f1b-baad-e895ddbd6299 button.colab-df-convert');\n",
              "        buttonEl.style.display =\n",
              "          google.colab.kernel.accessAllowed ? 'block' : 'none';\n",
              "\n",
              "        async function convertToInteractive(key) {\n",
              "          const element = document.querySelector('#df-2dd86b99-60a7-4f1b-baad-e895ddbd6299');\n",
              "          const dataTable =\n",
              "            await google.colab.kernel.invokeFunction('convertToInteractive',\n",
              "                                                     [key], {});\n",
              "          if (!dataTable) return;\n",
              "\n",
              "          const docLinkHtml = 'Like what you see? Visit the ' +\n",
              "            '<a target=\"_blank\" href=https://colab.research.google.com/notebooks/data_table.ipynb>data table notebook</a>'\n",
              "            + ' to learn more about interactive tables.';\n",
              "          element.innerHTML = '';\n",
              "          dataTable['output_type'] = 'display_data';\n",
              "          await google.colab.output.renderOutput(dataTable, element);\n",
              "          const docLink = document.createElement('div');\n",
              "          docLink.innerHTML = docLinkHtml;\n",
              "          element.appendChild(docLink);\n",
              "        }\n",
              "      </script>\n",
              "    </div>\n",
              "  </div>\n",
              "  "
            ]
          },
          "metadata": {},
          "execution_count": 97
        }
      ]
    }
  ]
}